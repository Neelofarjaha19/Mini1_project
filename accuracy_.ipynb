{
  "nbformat": 4,
  "nbformat_minor": 0,
  "metadata": {
    "colab": {
      "provenance": []
    },
    "kernelspec": {
      "name": "python3",
      "display_name": "Python 3"
    },
    "language_info": {
      "name": "python"
    }
  },
  "cells": [
    {
      "cell_type": "code",
      "execution_count": null,
      "metadata": {
        "colab": {
          "base_uri": "https://localhost:8080/"
        },
        "id": "kP1ZD48vns8I",
        "outputId": "dfe19230-5322-4d96-acac-bb2b2b97eebd"
      },
      "outputs": [
        {
          "output_type": "stream",
          "name": "stdout",
          "text": [
            "Looking in indexes: https://pypi.org/simple, https://us-python.pkg.dev/colab-wheels/public/simple/\n",
            "Collecting imagecodecs\n",
            "  Downloading imagecodecs-2023.3.16-cp39-cp39-manylinux_2_17_x86_64.manylinux2014_x86_64.whl (36.1 MB)\n",
            "\u001b[2K     \u001b[90m━━━━━━━━━━━━━━━━━━━━━━━━━━━━━━━━━━━━━━━━\u001b[0m \u001b[32m36.1/36.1 MB\u001b[0m \u001b[31m26.2 MB/s\u001b[0m eta \u001b[36m0:00:00\u001b[0m\n",
            "\u001b[?25hRequirement already satisfied: numpy in /usr/local/lib/python3.9/dist-packages (from imagecodecs) (1.22.4)\n",
            "Installing collected packages: imagecodecs\n",
            "Successfully installed imagecodecs-2023.3.16\n"
          ]
        }
      ],
      "source": [
        "\n",
        "!pip install imagecodecs"
      ]
    },
    {
      "cell_type": "code",
      "source": [
        "from sklearn.cluster import KMeans\n",
        "from sklearn.metrics import accuracy_score, confusion_matrix, cohen_kappa_score\n",
        "import numpy as np\n",
        "import pandas as pd\n",
        "from skimage import io\n",
        "\n",
        "# Load the multispectral images\n",
        "image1 = io.imread('/content/drive/MyDrive/VJA_TCC.tif')\n",
        "image2 = io.imread('/content/drive/MyDrive/projected_DEM.tif')\n",
        "'''\n",
        "# Reshape the images into 2D arrays\n",
        "image1_2d = image1.reshape(-1, image1.shape[-1])\n",
        "image2_2d = image2.reshape(-1, image2.shape[-1])\n",
        "\n",
        "# Perform k-means clustering on the images\n",
        "kmeans1 = KMeans(n_clusters=1, random_state=0).fit(image1_2d)\n",
        "kmeans2 = KMeans(n_clusters=1, random_state=0).fit(image2_2d)\n",
        "\n",
        "# Reshape the cluster labels into the original image shape\n",
        "labels1 = kmeans1.labels_.reshape(image1.shape[:-1])\n",
        "labels2 = kmeans2.labels_.reshape(image2.shape[:-1])\n",
        "\n",
        "# Calculate the accuracy metrics\n",
        "accuracy = accuracy_score(labels1.flatten(), labels2.flatten())\n",
        "kappa = cohen_kappa_score(labels1.flatten(), labels2.flatten())\n",
        "conf_matrix = confusion_matrix(labels1.flatten(), labels2.flatten())\n",
        "\n",
        "# Print the results\n",
        "print(\"Accuracy: \", accuracy)\n",
        "print(\"Kappa: \", kappa)\n",
        "print(\"Confusion Matrix: \\n\", pd.DataFrame(conf_matrix))\n",
        "'''"
      ],
      "metadata": {
        "colab": {
          "base_uri": "https://localhost:8080/",
          "height": 140
        },
        "id": "EbisC4RkntpP",
        "outputId": "e698f995-238a-46c4-e36a-76c85c147689"
      },
      "execution_count": null,
      "outputs": [
        {
          "output_type": "execute_result",
          "data": {
            "text/plain": [
              "'\\n# Reshape the images into 2D arrays\\nimage1_2d = image1.reshape(-1, image1.shape[-1])\\nimage2_2d = image2.reshape(-1, image2.shape[-1])\\n\\n# Perform k-means clustering on the images\\nkmeans1 = KMeans(n_clusters=1, random_state=0).fit(image1_2d)\\nkmeans2 = KMeans(n_clusters=1, random_state=0).fit(image2_2d)\\n\\n# Reshape the cluster labels into the original image shape\\nlabels1 = kmeans1.labels_.reshape(image1.shape[:-1])\\nlabels2 = kmeans2.labels_.reshape(image2.shape[:-1])\\n\\n# Calculate the accuracy metrics\\naccuracy = accuracy_score(labels1.flatten(), labels2.flatten())\\nkappa = cohen_kappa_score(labels1.flatten(), labels2.flatten())\\nconf_matrix = confusion_matrix(labels1.flatten(), labels2.flatten())\\n\\n# Print the results\\nprint(\"Accuracy: \", accuracy)\\nprint(\"Kappa: \", kappa)\\nprint(\"Confusion Matrix: \\n\", pd.DataFrame(conf_matrix))\\n'"
            ],
            "application/vnd.google.colaboratory.intrinsic+json": {
              "type": "string"
            }
          },
          "metadata": {},
          "execution_count": 2
        }
      ]
    },
    {
      "cell_type": "code",
      "source": [
        "from skimage.transform import resize\n",
        "\n",
        "# Load the multispectral images\n",
        "image1 = io.imread('/content/drive/MyDrive/VJA_TCC.tif')\n",
        "image2 = io.imread('/content/drive/MyDrive/projected_DEM.tif')\n",
        "\n",
        "# Resize the images to the same shape\n",
        "shape = (200,200, 4)  # desired shape\n",
        "image1 = resize(image1, shape)\n",
        "image2 = resize(image2, shape)\n",
        "\n",
        "# Reshape the images into 2D arrays\n",
        "image1_2d = image1.reshape(-1, image1.shape[-1])\n",
        "image2_2d = image2.reshape(-1, image2.shape[-1])\n",
        "\n",
        "# Perform k-means clustering on the images\n",
        "kmeans1 = KMeans(n_clusters=2, random_state=0).fit(image1_2d)\n",
        "kmeans2 = KMeans(n_clusters=2, random_state=0).fit(image2_2d)\n",
        "\n",
        "# Reshape the cluster labels into the original image shape\n",
        "labels1 = kmeans1.labels_.reshape(image1.shape[:-1])\n",
        "labels2 = kmeans2.labels_.reshape(image2.shape[:-1])\n",
        "\n",
        "# Calculate the accuracy metrics\n",
        "accuracy = accuracy_score(labels1.flatten(), labels2.flatten())\n",
        "kappa = cohen_kappa_score(labels1.flatten(), labels2.flatten())\n",
        "conf_matrix = confusion_matrix(labels1.flatten(), labels2.flatten())\n",
        "\n",
        "# Print the results\n",
        "print(\"Accuracy: \", accuracy)\n",
        "print(\"Kappa: \", kappa)\n",
        "print(\"Confusion Matrix: \\n\", pd.DataFrame(conf_matrix))\n"
      ],
      "metadata": {
        "colab": {
          "base_uri": "https://localhost:8080/"
        },
        "id": "cc2L6FtMlRil",
        "outputId": "bbadf49f-91d4-4bfc-b7e8-3c0d633e47f1"
      },
      "execution_count": null,
      "outputs": [
        {
          "output_type": "stream",
          "name": "stderr",
          "text": [
            "/usr/local/lib/python3.9/dist-packages/sklearn/cluster/_kmeans.py:870: FutureWarning: The default value of `n_init` will change from 10 to 'auto' in 1.4. Set the value of `n_init` explicitly to suppress the warning\n",
            "  warnings.warn(\n",
            "/usr/local/lib/python3.9/dist-packages/sklearn/cluster/_kmeans.py:870: FutureWarning: The default value of `n_init` will change from 10 to 'auto' in 1.4. Set the value of `n_init` explicitly to suppress the warning\n",
            "  warnings.warn(\n"
          ]
        },
        {
          "output_type": "stream",
          "name": "stdout",
          "text": [
            "Accuracy:  0.635575\n",
            "Kappa:  -0.016004280363234313\n",
            "Confusion Matrix: \n",
            "        0    1\n",
            "0  25231  679\n",
            "1  13898  192\n"
          ]
        }
      ]
    },
    {
      "cell_type": "code",
      "source": [
        "from skimage.transform import resize\n",
        "from sklearn.mixture import GaussianMixture\n",
        "\n",
        "# Load the multispectral images\n",
        "image1 = io.imread('/content/drive/MyDrive/VJA_TCC.tif')\n",
        "image2 = io.imread('/content/drive/MyDrive/projected_DEM.tif')\n",
        "\n",
        "# Resize the images to the same shape\n",
        "shape = (200,200, 4)  # desired shape\n",
        "image1 = resize(image1, shape)\n",
        "image2 = resize(image2, shape)\n",
        "\n",
        "# Reshape the images into 2D arrays\n",
        "image1_2d = image1.reshape(-1, image1.shape[-1])\n",
        "image2_2d = image2.reshape(-1, image2.shape[-1])\n",
        "\n",
        "# Perform Gaussian mixture model clustering on the images\n",
        "gm1 = GaussianMixture(n_components=2, random_state=0).fit(image1_2d)\n",
        "gm2 = GaussianMixture(n_components=2, random_state=0).fit(image2_2d)\n",
        "\n",
        "# Predict the cluster labels for the images\n",
        "labels1 = gm1.predict(image1_2d).reshape(image1.shape[:-1])\n",
        "labels2 = gm2.predict(image2_2d).reshape(image2.shape[:-1])\n",
        "\n",
        "# Calculate the accuracy metrics\n",
        "accuracy = accuracy_score(labels1.flatten(), labels2.flatten())\n",
        "kappa = cohen_kappa_score(labels1.flatten(), labels2.flatten())\n",
        "conf_matrix = confusion_matrix(labels1.flatten(), labels2.flatten())\n",
        "\n",
        "# Print the results\n",
        "print(\"Accuracy: \", accuracy)\n",
        "print(\"Kappa: \", kappa)\n",
        "print(\"Confusion Matrix: \\n\", pd.DataFrame(conf_matrix))\n"
      ],
      "metadata": {
        "id": "7KP0Tz-vmqR2",
        "colab": {
          "base_uri": "https://localhost:8080/"
        },
        "outputId": "db87fef4-3233-4614-c6bc-fbd3d505ba10"
      },
      "execution_count": null,
      "outputs": [
        {
          "output_type": "stream",
          "name": "stdout",
          "text": [
            "Accuracy:  0.581775\n",
            "Kappa:  -0.03960894546180027\n",
            "Confusion Matrix: \n",
            "        0     1\n",
            "0  22960  1288\n",
            "1  15441   311\n"
          ]
        }
      ]
    },
    {
      "cell_type": "code",
      "source": [],
      "metadata": {
        "id": "5hS-RY67y2Ie"
      },
      "execution_count": null,
      "outputs": []
    }
  ]
}